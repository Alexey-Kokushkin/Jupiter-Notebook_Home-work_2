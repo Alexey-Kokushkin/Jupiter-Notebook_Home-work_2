{
 "cells": [
  {
   "cell_type": "code",
   "execution_count": 1,
   "id": "2e12995b",
   "metadata": {},
   "outputs": [],
   "source": [
    "# 1. Прочитайте все данные о продажах продукта и покажите их с помощью многострочного графика\n",
    "# 2. Прочитайте данные о продажах мыла для купания за все месяцы и покажите их с помощью гистограммы.столбчатой диаграммы.\n",
    "# 3. Рассчитайте общие данные о продажах за год для каждого продукта и покажите их с помощью круговой диаграммы"
   ]
  },
  {
   "cell_type": "code",
   "execution_count": 2,
   "id": "a7769deb",
   "metadata": {},
   "outputs": [],
   "source": [
    "import pandas as pd"
   ]
  },
  {
   "cell_type": "code",
   "execution_count": 3,
   "id": "84602391",
   "metadata": {},
   "outputs": [],
   "source": [
    "import matplotlib.pyplot as plt"
   ]
  },
  {
   "cell_type": "code",
   "execution_count": 4,
   "id": "bcfc0bf7",
   "metadata": {},
   "outputs": [],
   "source": [
    "from sympy import *\n",
    "from math import *"
   ]
  },
  {
   "cell_type": "code",
   "execution_count": 5,
   "id": "4cca0946",
   "metadata": {},
   "outputs": [],
   "source": [
    "def sum_numbers(numbers):\n",
    "    total = 0\n",
    "    for number in numbers:\n",
    "        total += number\n",
    "    return total"
   ]
  },
  {
   "cell_type": "code",
   "execution_count": 6,
   "id": "f38a528f",
   "metadata": {},
   "outputs": [
    {
     "data": {
      "text/html": [
       "<div>\n",
       "<style scoped>\n",
       "    .dataframe tbody tr th:only-of-type {\n",
       "        vertical-align: middle;\n",
       "    }\n",
       "\n",
       "    .dataframe tbody tr th {\n",
       "        vertical-align: top;\n",
       "    }\n",
       "\n",
       "    .dataframe thead th {\n",
       "        text-align: right;\n",
       "    }\n",
       "</style>\n",
       "<table border=\"1\" class=\"dataframe\">\n",
       "  <thead>\n",
       "    <tr style=\"text-align: right;\">\n",
       "      <th></th>\n",
       "      <th>month_number</th>\n",
       "      <th>facecream</th>\n",
       "      <th>facewash</th>\n",
       "      <th>toothpaste</th>\n",
       "      <th>bathingsoap</th>\n",
       "      <th>shampoo</th>\n",
       "      <th>moisturizer</th>\n",
       "      <th>total_units</th>\n",
       "      <th>total_profit</th>\n",
       "    </tr>\n",
       "  </thead>\n",
       "  <tbody>\n",
       "    <tr>\n",
       "      <th>0</th>\n",
       "      <td>1</td>\n",
       "      <td>2500</td>\n",
       "      <td>1500</td>\n",
       "      <td>5200</td>\n",
       "      <td>9200</td>\n",
       "      <td>1200</td>\n",
       "      <td>1500</td>\n",
       "      <td>21100</td>\n",
       "      <td>211000</td>\n",
       "    </tr>\n",
       "    <tr>\n",
       "      <th>1</th>\n",
       "      <td>2</td>\n",
       "      <td>2630</td>\n",
       "      <td>1200</td>\n",
       "      <td>5100</td>\n",
       "      <td>6100</td>\n",
       "      <td>2100</td>\n",
       "      <td>1200</td>\n",
       "      <td>18330</td>\n",
       "      <td>183300</td>\n",
       "    </tr>\n",
       "    <tr>\n",
       "      <th>2</th>\n",
       "      <td>3</td>\n",
       "      <td>2140</td>\n",
       "      <td>1340</td>\n",
       "      <td>4550</td>\n",
       "      <td>9550</td>\n",
       "      <td>3550</td>\n",
       "      <td>1340</td>\n",
       "      <td>22470</td>\n",
       "      <td>224700</td>\n",
       "    </tr>\n",
       "    <tr>\n",
       "      <th>3</th>\n",
       "      <td>4</td>\n",
       "      <td>3400</td>\n",
       "      <td>1130</td>\n",
       "      <td>5870</td>\n",
       "      <td>8870</td>\n",
       "      <td>1870</td>\n",
       "      <td>1130</td>\n",
       "      <td>22270</td>\n",
       "      <td>222700</td>\n",
       "    </tr>\n",
       "    <tr>\n",
       "      <th>4</th>\n",
       "      <td>5</td>\n",
       "      <td>3600</td>\n",
       "      <td>1740</td>\n",
       "      <td>4560</td>\n",
       "      <td>7760</td>\n",
       "      <td>1560</td>\n",
       "      <td>1740</td>\n",
       "      <td>20960</td>\n",
       "      <td>209600</td>\n",
       "    </tr>\n",
       "    <tr>\n",
       "      <th>5</th>\n",
       "      <td>6</td>\n",
       "      <td>2760</td>\n",
       "      <td>1555</td>\n",
       "      <td>4890</td>\n",
       "      <td>7490</td>\n",
       "      <td>1890</td>\n",
       "      <td>1555</td>\n",
       "      <td>20140</td>\n",
       "      <td>201400</td>\n",
       "    </tr>\n",
       "    <tr>\n",
       "      <th>6</th>\n",
       "      <td>7</td>\n",
       "      <td>2980</td>\n",
       "      <td>1120</td>\n",
       "      <td>4780</td>\n",
       "      <td>8980</td>\n",
       "      <td>1780</td>\n",
       "      <td>1120</td>\n",
       "      <td>20760</td>\n",
       "      <td>207600</td>\n",
       "    </tr>\n",
       "    <tr>\n",
       "      <th>7</th>\n",
       "      <td>8</td>\n",
       "      <td>3700</td>\n",
       "      <td>1400</td>\n",
       "      <td>5860</td>\n",
       "      <td>9960</td>\n",
       "      <td>2860</td>\n",
       "      <td>1400</td>\n",
       "      <td>25180</td>\n",
       "      <td>251800</td>\n",
       "    </tr>\n",
       "    <tr>\n",
       "      <th>8</th>\n",
       "      <td>9</td>\n",
       "      <td>3540</td>\n",
       "      <td>1780</td>\n",
       "      <td>6100</td>\n",
       "      <td>8100</td>\n",
       "      <td>2100</td>\n",
       "      <td>1780</td>\n",
       "      <td>23400</td>\n",
       "      <td>234000</td>\n",
       "    </tr>\n",
       "    <tr>\n",
       "      <th>9</th>\n",
       "      <td>10</td>\n",
       "      <td>1990</td>\n",
       "      <td>1890</td>\n",
       "      <td>8300</td>\n",
       "      <td>10300</td>\n",
       "      <td>2300</td>\n",
       "      <td>1890</td>\n",
       "      <td>26670</td>\n",
       "      <td>266700</td>\n",
       "    </tr>\n",
       "    <tr>\n",
       "      <th>10</th>\n",
       "      <td>11</td>\n",
       "      <td>2340</td>\n",
       "      <td>2100</td>\n",
       "      <td>7300</td>\n",
       "      <td>13300</td>\n",
       "      <td>2400</td>\n",
       "      <td>2100</td>\n",
       "      <td>29540</td>\n",
       "      <td>295400</td>\n",
       "    </tr>\n",
       "    <tr>\n",
       "      <th>11</th>\n",
       "      <td>12</td>\n",
       "      <td>2900</td>\n",
       "      <td>1760</td>\n",
       "      <td>7400</td>\n",
       "      <td>14400</td>\n",
       "      <td>1800</td>\n",
       "      <td>1760</td>\n",
       "      <td>30020</td>\n",
       "      <td>300200</td>\n",
       "    </tr>\n",
       "  </tbody>\n",
       "</table>\n",
       "</div>"
      ],
      "text/plain": [
       "    month_number  facecream  facewash  toothpaste  bathingsoap  shampoo  \\\n",
       "0              1       2500      1500        5200         9200     1200   \n",
       "1              2       2630      1200        5100         6100     2100   \n",
       "2              3       2140      1340        4550         9550     3550   \n",
       "3              4       3400      1130        5870         8870     1870   \n",
       "4              5       3600      1740        4560         7760     1560   \n",
       "5              6       2760      1555        4890         7490     1890   \n",
       "6              7       2980      1120        4780         8980     1780   \n",
       "7              8       3700      1400        5860         9960     2860   \n",
       "8              9       3540      1780        6100         8100     2100   \n",
       "9             10       1990      1890        8300        10300     2300   \n",
       "10            11       2340      2100        7300        13300     2400   \n",
       "11            12       2900      1760        7400        14400     1800   \n",
       "\n",
       "    moisturizer  total_units  total_profit  \n",
       "0          1500        21100        211000  \n",
       "1          1200        18330        183300  \n",
       "2          1340        22470        224700  \n",
       "3          1130        22270        222700  \n",
       "4          1740        20960        209600  \n",
       "5          1555        20140        201400  \n",
       "6          1120        20760        207600  \n",
       "7          1400        25180        251800  \n",
       "8          1780        23400        234000  \n",
       "9          1890        26670        266700  \n",
       "10         2100        29540        295400  \n",
       "11         1760        30020        300200  "
      ]
     },
     "execution_count": 6,
     "metadata": {},
     "output_type": "execute_result"
    }
   ],
   "source": [
    "pd_df = pd.read_csv('company_sales_data.csv')\n",
    "pd_df.head(12)"
   ]
  },
  {
   "cell_type": "code",
   "execution_count": 7,
   "id": "c7a12783",
   "metadata": {},
   "outputs": [],
   "source": [
    "month_list = pd_df['month_number'].tolist()"
   ]
  },
  {
   "cell_type": "code",
   "execution_count": 8,
   "id": "70c3b58d",
   "metadata": {},
   "outputs": [],
   "source": [
    "profit_list = pd_df['total_profit'].tolist()"
   ]
  },
  {
   "cell_type": "code",
   "execution_count": 9,
   "id": "575765ad",
   "metadata": {},
   "outputs": [],
   "source": [
    "total_cosmetic=[]"
   ]
  },
  {
   "cell_type": "code",
   "execution_count": 10,
   "id": "b90106bc",
   "metadata": {},
   "outputs": [],
   "source": [
    "total_cosmetic_types=[]"
   ]
  },
  {
   "cell_type": "code",
   "execution_count": 11,
   "id": "8ffbcdff",
   "metadata": {},
   "outputs": [
    {
     "data": {
      "text/plain": [
       "[2500, 2630, 2140, 3400, 3600, 2760, 2980, 3700, 3540, 1990, 2340, 2900]"
      ]
     },
     "execution_count": 11,
     "metadata": {},
     "output_type": "execute_result"
    }
   ],
   "source": [
    "facecream_list = pd_df['facecream'].tolist()\n",
    "facecream_list"
   ]
  },
  {
   "cell_type": "code",
   "execution_count": 12,
   "id": "354fe0d7",
   "metadata": {},
   "outputs": [
    {
     "data": {
      "text/plain": [
       "34480"
      ]
     },
     "execution_count": 12,
     "metadata": {},
     "output_type": "execute_result"
    }
   ],
   "source": [
    "total_facecream=sum_numbers(facecream_list)\n",
    "total_facecream"
   ]
  },
  {
   "cell_type": "code",
   "execution_count": 13,
   "id": "347b59b0",
   "metadata": {},
   "outputs": [
    {
     "data": {
      "text/plain": [
       "[34480]"
      ]
     },
     "execution_count": 13,
     "metadata": {},
     "output_type": "execute_result"
    }
   ],
   "source": [
    "total_cosmetic.append(total_facecream)\n",
    "total_cosmetic"
   ]
  },
  {
   "cell_type": "code",
   "execution_count": 14,
   "id": "fec5dd83",
   "metadata": {},
   "outputs": [
    {
     "data": {
      "text/plain": [
       "['facecream']"
      ]
     },
     "execution_count": 14,
     "metadata": {},
     "output_type": "execute_result"
    }
   ],
   "source": [
    "total_cosmetic_types.append('facecream')\n",
    "total_cosmetic_types"
   ]
  },
  {
   "cell_type": "code",
   "execution_count": 15,
   "id": "09178f49",
   "metadata": {},
   "outputs": [
    {
     "data": {
      "text/plain": [
       "[1500, 1200, 1340, 1130, 1740, 1555, 1120, 1400, 1780, 1890, 2100, 1760]"
      ]
     },
     "execution_count": 15,
     "metadata": {},
     "output_type": "execute_result"
    }
   ],
   "source": [
    "facewash_list = pd_df['facewash'].tolist()\n",
    "facewash_list"
   ]
  },
  {
   "cell_type": "code",
   "execution_count": 16,
   "id": "0de03dd0",
   "metadata": {},
   "outputs": [
    {
     "data": {
      "text/plain": [
       "18515"
      ]
     },
     "execution_count": 16,
     "metadata": {},
     "output_type": "execute_result"
    }
   ],
   "source": [
    "total_facewash=sum_numbers(facewash_list)\n",
    "total_facewash"
   ]
  },
  {
   "cell_type": "code",
   "execution_count": 17,
   "id": "0e0f2e6a",
   "metadata": {},
   "outputs": [
    {
     "data": {
      "text/plain": [
       "[34480, 18515]"
      ]
     },
     "execution_count": 17,
     "metadata": {},
     "output_type": "execute_result"
    }
   ],
   "source": [
    "total_cosmetic.append(total_facewash)\n",
    "total_cosmetic"
   ]
  },
  {
   "cell_type": "code",
   "execution_count": 18,
   "id": "c71e051a",
   "metadata": {},
   "outputs": [
    {
     "data": {
      "text/plain": [
       "['facecream', 'facewash']"
      ]
     },
     "execution_count": 18,
     "metadata": {},
     "output_type": "execute_result"
    }
   ],
   "source": [
    "total_cosmetic_types.append('facewash')\n",
    "total_cosmetic_types"
   ]
  },
  {
   "cell_type": "code",
   "execution_count": 19,
   "id": "5a33822b",
   "metadata": {},
   "outputs": [
    {
     "data": {
      "text/plain": [
       "[5200, 5100, 4550, 5870, 4560, 4890, 4780, 5860, 6100, 8300, 7300, 7400]"
      ]
     },
     "execution_count": 19,
     "metadata": {},
     "output_type": "execute_result"
    }
   ],
   "source": [
    "toothpaste_list = pd_df['toothpaste'].tolist()\n",
    "toothpaste_list"
   ]
  },
  {
   "cell_type": "code",
   "execution_count": 20,
   "id": "e67dde12",
   "metadata": {},
   "outputs": [
    {
     "data": {
      "text/plain": [
       "69910"
      ]
     },
     "execution_count": 20,
     "metadata": {},
     "output_type": "execute_result"
    }
   ],
   "source": [
    "total_toothpaste=sum_numbers(toothpaste_list)\n",
    "total_toothpaste"
   ]
  },
  {
   "cell_type": "code",
   "execution_count": 21,
   "id": "f7ad0942",
   "metadata": {},
   "outputs": [
    {
     "data": {
      "text/plain": [
       "[34480, 18515, 69910]"
      ]
     },
     "execution_count": 21,
     "metadata": {},
     "output_type": "execute_result"
    }
   ],
   "source": [
    "total_cosmetic.append(total_toothpaste)\n",
    "total_cosmetic"
   ]
  },
  {
   "cell_type": "code",
   "execution_count": 22,
   "id": "67eb4f49",
   "metadata": {},
   "outputs": [
    {
     "data": {
      "text/plain": [
       "['facecream', 'facewash', 'toothpaste']"
      ]
     },
     "execution_count": 22,
     "metadata": {},
     "output_type": "execute_result"
    }
   ],
   "source": [
    "total_cosmetic_types.append('toothpaste')\n",
    "total_cosmetic_types"
   ]
  },
  {
   "cell_type": "code",
   "execution_count": 23,
   "id": "e855a2e0",
   "metadata": {},
   "outputs": [
    {
     "data": {
      "text/plain": [
       "[9200, 6100, 9550, 8870, 7760, 7490, 8980, 9960, 8100, 10300, 13300, 14400]"
      ]
     },
     "execution_count": 23,
     "metadata": {},
     "output_type": "execute_result"
    }
   ],
   "source": [
    "bathingsoap_list = pd_df['bathingsoap'].tolist()\n",
    "bathingsoap_list"
   ]
  },
  {
   "cell_type": "code",
   "execution_count": 24,
   "id": "41183af8",
   "metadata": {},
   "outputs": [
    {
     "data": {
      "text/plain": [
       "114010"
      ]
     },
     "execution_count": 24,
     "metadata": {},
     "output_type": "execute_result"
    }
   ],
   "source": [
    "total_bathingsoap=sum_numbers(bathingsoap_list)\n",
    "total_bathingsoap"
   ]
  },
  {
   "cell_type": "code",
   "execution_count": 25,
   "id": "0b3a98d8",
   "metadata": {},
   "outputs": [
    {
     "data": {
      "text/plain": [
       "[34480, 18515, 69910, 114010]"
      ]
     },
     "execution_count": 25,
     "metadata": {},
     "output_type": "execute_result"
    }
   ],
   "source": [
    "total_cosmetic.append(total_bathingsoap)\n",
    "total_cosmetic"
   ]
  },
  {
   "cell_type": "code",
   "execution_count": 26,
   "id": "8b5d7cd5",
   "metadata": {},
   "outputs": [
    {
     "data": {
      "text/plain": [
       "['facecream', 'facewash', 'toothpaste', 'bathingsoap']"
      ]
     },
     "execution_count": 26,
     "metadata": {},
     "output_type": "execute_result"
    }
   ],
   "source": [
    "total_cosmetic_types.append('bathingsoap')\n",
    "total_cosmetic_types"
   ]
  },
  {
   "cell_type": "code",
   "execution_count": 27,
   "id": "1b41d24b",
   "metadata": {},
   "outputs": [
    {
     "data": {
      "text/plain": [
       "[1200, 2100, 3550, 1870, 1560, 1890, 1780, 2860, 2100, 2300, 2400, 1800]"
      ]
     },
     "execution_count": 27,
     "metadata": {},
     "output_type": "execute_result"
    }
   ],
   "source": [
    "shampoo_list = pd_df['shampoo'].tolist()\n",
    "shampoo_list"
   ]
  },
  {
   "cell_type": "code",
   "execution_count": 28,
   "id": "d43d94b8",
   "metadata": {},
   "outputs": [
    {
     "data": {
      "text/plain": [
       "25410"
      ]
     },
     "execution_count": 28,
     "metadata": {},
     "output_type": "execute_result"
    }
   ],
   "source": [
    "total_shampoo=sum_numbers(shampoo_list)\n",
    "total_shampoo"
   ]
  },
  {
   "cell_type": "code",
   "execution_count": 29,
   "id": "c19b8c17",
   "metadata": {},
   "outputs": [
    {
     "data": {
      "text/plain": [
       "[34480, 18515, 69910, 114010, 25410]"
      ]
     },
     "execution_count": 29,
     "metadata": {},
     "output_type": "execute_result"
    }
   ],
   "source": [
    "total_cosmetic.append(total_shampoo)\n",
    "total_cosmetic"
   ]
  },
  {
   "cell_type": "code",
   "execution_count": 30,
   "id": "0b7dbad1",
   "metadata": {},
   "outputs": [
    {
     "data": {
      "text/plain": [
       "['facecream', 'facewash', 'toothpaste', 'bathingsoap', 'shampoo']"
      ]
     },
     "execution_count": 30,
     "metadata": {},
     "output_type": "execute_result"
    }
   ],
   "source": [
    "total_cosmetic_types.append('shampoo')\n",
    "total_cosmetic_types"
   ]
  },
  {
   "cell_type": "code",
   "execution_count": 31,
   "id": "eee1e171",
   "metadata": {},
   "outputs": [
    {
     "data": {
      "text/plain": [
       "[1500, 1200, 1340, 1130, 1740, 1555, 1120, 1400, 1780, 1890, 2100, 1760]"
      ]
     },
     "execution_count": 31,
     "metadata": {},
     "output_type": "execute_result"
    }
   ],
   "source": [
    "moisturizer_list = pd_df['moisturizer'].tolist()\n",
    "moisturizer_list"
   ]
  },
  {
   "cell_type": "code",
   "execution_count": 32,
   "id": "074204ca",
   "metadata": {},
   "outputs": [
    {
     "data": {
      "text/plain": [
       "18515"
      ]
     },
     "execution_count": 32,
     "metadata": {},
     "output_type": "execute_result"
    }
   ],
   "source": [
    "total_moisturizer=sum_numbers(moisturizer_list)\n",
    "total_moisturizer"
   ]
  },
  {
   "cell_type": "code",
   "execution_count": 33,
   "id": "7c2533ea",
   "metadata": {},
   "outputs": [
    {
     "data": {
      "text/plain": [
       "[34480, 18515, 69910, 114010, 25410, 18515]"
      ]
     },
     "execution_count": 33,
     "metadata": {},
     "output_type": "execute_result"
    }
   ],
   "source": [
    "total_cosmetic.append(total_moisturizer)\n",
    "total_cosmetic"
   ]
  },
  {
   "cell_type": "code",
   "execution_count": 34,
   "id": "cd9950e2",
   "metadata": {},
   "outputs": [
    {
     "data": {
      "text/plain": [
       "['facecream',\n",
       " 'facewash',\n",
       " 'toothpaste',\n",
       " 'bathingsoap',\n",
       " 'shampoo',\n",
       " 'moisturizer']"
      ]
     },
     "execution_count": 34,
     "metadata": {},
     "output_type": "execute_result"
    }
   ],
   "source": [
    "total_cosmetic_types.append('moisturizer')\n",
    "total_cosmetic_types"
   ]
  },
  {
   "cell_type": "code",
   "execution_count": 35,
   "id": "61208d3f",
   "metadata": {},
   "outputs": [
    {
     "data": {
      "text/plain": [
       "<function matplotlib.pyplot.show(close=None, block=None)>"
      ]
     },
     "execution_count": 35,
     "metadata": {},
     "output_type": "execute_result"
    },
    {
     "data": {
      "image/png": "[encoded data removed]",
      "text/plain": [
       "<Figure size 432x288 with 1 Axes>"
      ]
     },
     "metadata": {
      "needs_background": "light"
     },
     "output_type": "display_data"
    }
   ],
   "source": [
    "plt.plot(month_list, toothpaste_list, label=\"Зубная паста\")\n",
    "plt.plot(month_list,facewash_list, label=\"Пенка для умывания лица\")\n",
    "plt.plot(month_list, facecream_list, label = \"Крем для лица\")\n",
    "plt.plot(month_list, bathingsoap_list, label = \"Мыло для купания\")\n",
    "plt.plot(month_list, shampoo_list, label = \"Шампунь\")\n",
    "plt.plot(month_list, moisturizer_list, label = \"Увлажняющий крем\")\n",
    "plt.xticks([1,2,3,4,5,6,7,8,9,10,11,12]) #использует все значения из списка x(month_list)\n",
    "\n",
    "plt.yticks([1000, 2000, 3000, 4000, 5000, 6000, 7000, 8000, 9000, 10000, 11000, 12000, 13000, 14000, 15000])\n",
    "plt.title('Распределение прибыли:')\n",
    "plt.ylabel('Количество проданных единиц')\n",
    "plt.legend(loc = 'best')\n",
    "plt.xlabel('Месяцы')\n",
    "plt.show"
   ]
  },
  {
   "cell_type": "code",
   "execution_count": 36,
   "id": "ecff573a",
   "metadata": {},
   "outputs": [
    {
     "data": {
      "text/plain": [
       "<function matplotlib.pyplot.show(close=None, block=None)>"
      ]
     },
     "execution_count": 36,
     "metadata": {},
     "output_type": "execute_result"
    },
    {
     "data": {
      "image/png": "[encoded data removed]",
      "text/plain": [
       "<Figure size 432x288 with 1 Axes>"
      ]
     },
     "metadata": {
      "needs_background": "light"
     },
     "output_type": "display_data"
    }
   ],
   "source": [
    "plt.bar(month_list, bathingsoap_list, color = 'r', label = \"Мыло для купания\")\n",
    "plt.xticks([1,2,3,4,5,6,7,8,9,10,11,12])\n",
    "plt.yticks([1000, 2000, 3000, 4000, 5000, 6000, 7000, 8000, 9000, 10000, 11000, 12000, 13000, 14000, 15000])\n",
    "plt.title('Информация о продажах мыла для купания')\n",
    "plt.ylabel('Количество проданных единиц в шт.')\n",
    "plt.legend(loc = 'best')\n",
    "plt.xlabel('Месяцы')\n",
    "plt.show"
   ]
  },
  {
   "cell_type": "code",
   "execution_count": 37,
   "id": "58b24adb",
   "metadata": {},
   "outputs": [
    {
     "data": {
      "image/png": "[encoded data removed]",
      "text/plain": [
       "<Figure size 432x288 with 1 Axes>"
      ]
     },
     "metadata": {},
     "output_type": "display_data"
    }
   ],
   "source": [
    "plt.pie(total_cosmetic, labels = total_cosmetic_types, autopct='%.0f%%') \n",
    "plt.title('Общие данные о продажах за год') \n",
    "plt.show()"
   ]
  },
  {
   "cell_type": "code",
   "execution_count": null,
   "id": "3a3650fa",
   "metadata": {},
   "outputs": [],
   "source": []
  }
 ],
 "metadata": {
  "kernelspec": {
   "display_name": "Python 3 (ipykernel)",
   "language": "python",
   "name": "python3"
  },
  "language_info": {
   "codemirror_mode": {
    "name": "ipython",
    "version": 3
   },
   "file_extension": ".py",
   "mimetype": "text/x-python",
   "name": "python",
   "nbconvert_exporter": "python",
   "pygments_lexer": "ipython3",
   "version": "3.9.12"
  }
 },
 "nbformat": 4,
 "nbformat_minor": 5
}
